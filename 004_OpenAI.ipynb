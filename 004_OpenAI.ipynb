{
  "cells": [
    {
      "cell_type": "markdown",
      "metadata": {
        "id": "view-in-github",
        "colab_type": "text"
      },
      "source": [
        "<a href=\"https://colab.research.google.com/github/apriandito/temp-data/blob/main/004_OpenAI.ipynb\" target=\"_parent\"><img src=\"https://colab.research.google.com/assets/colab-badge.svg\" alt=\"Open In Colab\"/></a>"
      ]
    },
    {
      "cell_type": "markdown",
      "source": [
        "## **Setup**"
      ],
      "metadata": {
        "id": "x0D92ofMFmbM"
      }
    },
    {
      "cell_type": "code",
      "execution_count": null,
      "metadata": {
        "id": "iweB2G-tAlGZ"
      },
      "outputs": [],
      "source": [
        "# Install OpenAI Package\n",
        "!pip install openai"
      ]
    },
    {
      "cell_type": "code",
      "execution_count": null,
      "metadata": {
        "id": "sYs2Vd5nCxrT"
      },
      "outputs": [],
      "source": [
        "# Load Packages\n",
        "import pandas as pd\n",
        "\n",
        "# Load Module\n",
        "from openai import OpenAI\n",
        "from google.colab import userdata"
      ]
    },
    {
      "cell_type": "code",
      "execution_count": null,
      "metadata": {
        "id": "yOPIdYQfCbdx"
      },
      "outputs": [],
      "source": [
        "# Set API Key\n",
        "client = OpenAI(api_key = userdata.get('openai_api_key'))"
      ]
    },
    {
      "cell_type": "markdown",
      "source": [
        "## **Chat: Basic Usage**"
      ],
      "metadata": {
        "id": "4aB9R8in0wqp"
      }
    },
    {
      "cell_type": "code",
      "source": [
        "def get_message(prompt, input_text, model = \"gpt-3.5-turbo\"):\n",
        "\n",
        "    message = {\n",
        "        \"role\": \"user\",\n",
        "        \"content\": f\"{prompt}: {input_text}\"\n",
        "    }\n",
        "\n",
        "    chat_completion = client.chat.completions.create(\n",
        "        model = model,\n",
        "        temperature=0,\n",
        "        messages=[message]\n",
        "    )\n",
        "\n",
        "    if chat_completion.choices:\n",
        "        return chat_completion.choices[0].message.content\n",
        "\n",
        "    return None"
      ],
      "metadata": {
        "id": "F_L5RDHb3thd"
      },
      "execution_count": null,
      "outputs": []
    },
    {
      "cell_type": "code",
      "source": [
        "# Input Prompt\n",
        "prompt = \"Lakukan Analisis Sentimen pada teks berikut (Cukup Return Positive, Negative, Neutral), tanpa alasan apapun: \""
      ],
      "metadata": {
        "id": "IssyQdcBLjq6"
      },
      "execution_count": null,
      "outputs": []
    },
    {
      "cell_type": "code",
      "source": [
        "# Input Text\n",
        "texts = [\"Makanan Halal\", \"Makanan Haram\"]\n",
        "results = list(map(lambda input_text: get_message(prompt, input_text), texts))"
      ],
      "metadata": {
        "id": "pPwgpa9r5IPa"
      },
      "execution_count": null,
      "outputs": []
    },
    {
      "cell_type": "code",
      "source": [
        "df = pd.DataFrame({\"text\": texts, \"sentiment\": results})\n",
        "df"
      ],
      "metadata": {
        "id": "RsJ7_MUP7Tuf"
      },
      "execution_count": null,
      "outputs": []
    },
    {
      "cell_type": "markdown",
      "source": [
        "## **Excell**"
      ],
      "metadata": {
        "id": "W_s7nBo8kYkH"
      }
    },
    {
      "cell_type": "code",
      "source": [
        "from google.colab import files\n",
        "import io\n",
        "import pandas as pd\n",
        "\n",
        "# Create an upload button for the user to upload an Excel file\n",
        "uploaded = files.upload()\n",
        "\n",
        "# Process uploaded file\n",
        "if uploaded:\n",
        "    for fn in uploaded.keys():\n",
        "        print(f'User uploaded file \"{fn}\" with length {len(uploaded[fn])} bytes')\n",
        "\n",
        "        # Read the uploaded Excel file into DataFrame\n",
        "        excel_data = pd.read_excel(io.BytesIO(uploaded[fn]))\n",
        "\n",
        "        texts = excel_data[\"Text\"]\n",
        "\n",
        "        results = list(map(lambda input_text: get_message(prompt, input_text), texts))\n",
        "\n",
        "        df_results = pd.DataFrame({\"text\": texts, \"sentiment\": results})\n"
      ],
      "metadata": {
        "id": "jBwEt5-BjMZ1"
      },
      "execution_count": null,
      "outputs": []
    },
    {
      "cell_type": "code",
      "source": [
        "df_results"
      ],
      "metadata": {
        "id": "9RjYliWWkNGo"
      },
      "execution_count": null,
      "outputs": []
    },
    {
      "cell_type": "code",
      "source": [
        "df_results.to_excel(\"openai-result.xlsx\", index=False)\n",
        "\n",
        "# Provide a link to download the Excel file\n",
        "files.download(\"openai-result.xlsx\")"
      ],
      "metadata": {
        "id": "_ku-HUw9kRN7"
      },
      "execution_count": null,
      "outputs": []
    }
  ],
  "metadata": {
    "colab": {
      "provenance": [],
      "include_colab_link": true
    },
    "kernelspec": {
      "display_name": "Python 3",
      "name": "python3"
    },
    "language_info": {
      "name": "python"
    }
  },
  "nbformat": 4,
  "nbformat_minor": 0
}